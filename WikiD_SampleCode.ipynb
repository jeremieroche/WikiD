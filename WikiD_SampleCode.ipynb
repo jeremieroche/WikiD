{
 "cells": [
  {
   "cell_type": "markdown",
   "metadata": {},
   "source": [
    "# WikiD Sample Code"
   ]
  },
  {
   "cell_type": "code",
   "execution_count": 1,
   "metadata": {
    "collapsed": true
   },
   "outputs": [],
   "source": [
    "class WikiD(object):\n",
    "\n",
    "    def retrieve_raw(self,title):\n",
    "        # print(title)\n",
    "\n",
    "\n",
    "        # Eliminate Section from title\n",
    "        if '#' in title and \"&\" not in title:\n",
    "            title = re.sub(\"#.*?$\",\"\",title)\n",
    "\n",
    "        if \",\" in title:\n",
    "            title = title.replace(\",\",\"_\")\n",
    "\n",
    "        if title not in self.title2index:\n",
    "            return None\n",
    "        index = self.title2index[title]\n",
    "        xml_file_name = self.get_xml_file_name(index)\n",
    "\n",
    "        try:\n",
    "            xml_file = open(xml_file_name)\n",
    "        except:\n",
    "            return None\n",
    "\n",
    "        size = os.path.getsize(xml_file_name)\n",
    "        xml_file.seek(0)\n",
    "        raw = xml_file.read(size)\n",
    "        xml_file.close()\n",
    "        return raw\n",
    "\n",
    "    "
   ]
  },
  {
   "cell_type": "code",
   "execution_count": null,
   "metadata": {
    "collapsed": true
   },
   "outputs": [],
   "source": [
    "class Page(object):\n",
    "\n",
    "    def bidirectional_links(self,keyword):\n",
    "        page = self.get_page(keyword)\n",
    "        bl = []\n",
    "        for l in page.links():\n",
    "\n",
    "            other_page = self.get_page(l)\n",
    "            if other_page.links() and keyword in other_page.links():\n",
    "                bl.append(l)\n",
    "\n",
    "        return bl"
   ]
  }
 ],
 "metadata": {
  "kernelspec": {
   "display_name": "Python 3",
   "language": "python",
   "name": "python3"
  },
  "language_info": {
   "codemirror_mode": {
    "name": "ipython",
    "version": 3
   },
   "file_extension": ".py",
   "mimetype": "text/x-python",
   "name": "python",
   "nbconvert_exporter": "python",
   "pygments_lexer": "ipython3",
   "version": "3.6.0"
  }
 },
 "nbformat": 4,
 "nbformat_minor": 2
}
