{
 "cells": [
  {
   "cell_type": "markdown",
   "metadata": {},
   "source": [
    "# WikiD\n",
    "\n",
    "## Overview\n",
    "\n",
    "\"WikiD\" is a python package to access Wikipedia locally and get information useful for Natural Language Processing in a way not possible with other wikipedia packages.\n",
    "\n",
    "Wikipedia is accessible locally (as opposed to a web interface) primarily for speed reasons. I wanted the API to iterate through 100,000 pages in less than a minute for instance. Having Wikipedia locally also allows me to enrich it with information not stored in wikipedia pages (such as 'reverse links', i.e. Wikipedia links that point to the page rather than links that are in the page).\n",
    "\n",
    "The wikid packages has a compile module which takes the raw wikipedia download (the entire xml file) and compiles it into a file structure designed for efficient access. Wikipedia compilation takes about 7 hours but it needs to be done only once per wikipedia download.\n",
    "\n",
    "The runtime module is the most important one, it allows to allow pages in a variety of ways as described below.\n"
   ]
  },
  {
   "cell_type": "code",
   "execution_count": 1,
   "metadata": {
    "collapsed": false
   },
   "outputs": [],
   "source": [
    "from wikid import *"
   ]
  },
  {
   "cell_type": "markdown",
   "metadata": {},
   "source": [
    "## Loading\n",
    "\n",
    "Loads prepared pickles (~1.2 Gb) into a \"WikiD\" object, so it can read the Wikipeida source xml files. Wikipedia itself is not loaded into memory (that would be way too large) but a number of indexes are."
   ]
  },
  {
   "cell_type": "code",
   "execution_count": 2,
   "metadata": {
    "collapsed": false
   },
   "outputs": [
    {
     "name": "stdout",
     "output_type": "stream",
     "text": [
      "LOADING TITLE TO INDEX\n",
      "LOADING INDEX TO TITLE\n"
     ]
    }
   ],
   "source": [
    "wkd = WikiD()"
   ]
  },
  {
   "cell_type": "markdown",
   "metadata": {},
   "source": [
    "## Page:\n",
    "\n",
    "\"get_page\" returns an \"Page\" Object that contains information about a Wikipedia page, sourced from a locally storred xml file.\n",
    "\n",
    "Pages store attributes includes:\n",
    "* Title\n",
    "* The Raw Wikiepdia source xml\n",
    "* Wikipedia Links in the page\n",
    "* Wikipedia Pages pointing to the current page.*\n",
    "* Whether or not its a person\n",
    "\n",
    "(*Note: As of the current build, some links are missing)"
   ]
  },
  {
   "cell_type": "code",
   "execution_count": 3,
   "metadata": {
    "collapsed": false
   },
   "outputs": [
    {
     "name": "stdout",
     "output_type": "stream",
     "text": [
      "Steve Jobs\n",
      "['Apple.com', 'Jerry Brown', 'Dow Jones and Company', 'Dock (Mac OS X)', 'Apple Store', 'Chrisann Brennan', 'Jackling House', 'Pancreaticoduodenectomy', 'Microsoft', 'Transistor–transistor logic', 'Backdating', 'Apple Macintosh', 'Dementia', 'William Shakespeare', 'Sun Microsystems', 'Dieter Rams', 'West Coast Computer Faire', 'IBM Personal Computer', 'IWoz', 'Pong', 'Reality distortion field', 'Computer platform', 'Glass ceiling', 'NeXT Introduction', 'Market capitalization', 'WALL-E', 'Haidakhan Babaji', 'Relapse', 'Regis McKenna', 'Audiobook', 'Howard Vollum Award', 'Cupertino_ California', 'Dylan Thomas', 'Toy Story 3', 'Zen', 'Bill Hewlett', 'Classic Mac OS', 'Palo Alto_ California', 'San Jose_ California', 'Wayne Gretzky', 'Sōtō', 'ITunes', 'PC Magazine', 'Pixar', 'Simon and Schuster', 'Circuit board', 'Macworld Conference & Expo#2007', 'Commodore 64', 'United States Coast Guard', 'DNA paternity testing']\n"
     ]
    }
   ],
   "source": [
    "page_sj = wkd.get_page(\"Steve Jobs\")\n",
    "print(page_sj.title)\n",
    "print(page_sj.links()[:50])"
   ]
  },
  {
   "cell_type": "markdown",
   "metadata": {},
   "source": [
    "## Bidirectional links\n",
    "\n",
    "Because we have all page links, we can actually identify which of the links point to pages that are pointing back to the current page. These 'bidirectional_links' are a subset of the 'links' and are often more interesting. They allow to prune out links that point to too generic pages. For instance, if a page about 'Bill Gates' points to 'Technology', the 'Technology' page is very generic but it is unlikely to point back to 'Bill Gates'. Hence, in that instance, 'Technology' will be a link but not a bidirectional link."
   ]
  },
  {
   "cell_type": "code",
   "execution_count": 4,
   "metadata": {
    "collapsed": false
   },
   "outputs": [
    {
     "name": "stdout",
     "output_type": "stream",
     "text": [
      "True\n",
      "['BgC3', 'Lakeside School (Seattle_ Washington)', 'World Economic Forum', 'Bono', 'Reddit', 'Microsoft', 'Criticism of Microsoft', 'Altair 8800', 'Omni Processor', 'Anthony Michael Hall', \"The World's Billionaires\", 'David Boies', 'The Giving Pledge', 'Micro Instrumentation and Telemetry Systems', 'Leonardo da Vinci', 'MITS Altair 8800', 'Carlos Slim', \"Bill Gates' house\", 'Jefferson Awards for Public Service', 'Melinda Gates', 'DFBCS', 'Nerds 2.0.1', 'TerraPower', 'National Merit Scholarship Program', 'The Dating Game', 'BASIC', 'William H. Gates Sr.', 'Berkshire Hathaway', 'Superintelligence: Paths_ Dangers_ Strategies', 'Christos Papadimitriou', 'Lists of billionaires', 'New York Institute of Technology', 'Harvard College', 'The Road Ahead (Bill Gates book)', 'The Power of Half', 'Mark Zuckerberg', 'PC DOS', 'Washington (state)', 'Corbis', 'Steve Ballmer', 'Forbes 400', 'OS/2', 'ResearchGate', 'John D. Rockefeller', 'Giving Pledge', 'PDP-10', 'Pancake sorting', 'Harry R. Lewis', 'British honours system', 'Teletype Model 33']\n"
     ]
    }
   ],
   "source": [
    "page_bg = wkd.get_page(\"Bill Gates\")\n",
    "\n",
    "# is_person indicates whether the page describes a person\n",
    "print(page_bg.is_person)\n",
    "\n",
    "# bidirectional_links are links to pages that are pointing back at this page.\n",
    "print(page_bg.bidirectional_links()[:50])\n"
   ]
  },
  {
   "cell_type": "markdown",
   "metadata": {},
   "source": [
    "## Iteration through sections Wikipedia\n",
    "\n",
    "For testing purposes, it is often useful to iterate through a subset of wikipedia. The example below shows how to get 10 consecutive pages at position 100,000."
   ]
  },
  {
   "cell_type": "code",
   "execution_count": 5,
   "metadata": {
    "collapsed": false
   },
   "outputs": [
    {
     "name": "stdout",
     "output_type": "stream",
     "text": [
      "Bursa\n",
      "The Bahamas\n",
      "Baker Island\n",
      "Bangladesh\n",
      "Barbados\n",
      "Bassas da India\n",
      "Belarus\n",
      "Belize\n",
      "Benin\n",
      "Bermuda\n"
     ]
    }
   ],
   "source": [
    "for page in wkd.range(2000,2010):\n",
    "    if len(page.links()) > 10:\n",
    "        print(page.title)\n",
    "    "
   ]
  },
  {
   "cell_type": "code",
   "execution_count": 6,
   "metadata": {
    "collapsed": false
   },
   "outputs": [
    {
     "name": "stdout",
     "output_type": "stream",
     "text": [
      "['List of sights in Berlin', 'Portal:Berlin/Topics', 'Culture in Berlin', 'Spree', 'Architecture in Berlin', 'Cengaver Katrancı', 'I Will Follow You', 'Timeline of Berlin', 'Template:Visitor attractions in Berlin', 'Template:Bridges of Berlin', 'Berlin', 'West Berlin', 'Friedrichshain-Kreuzberg', 'Fernsehturm Berlin', 'Berlin U-Bahn', 'Friedrichshain', 'Unknown (2011 film)', 'Template:Berlin Wall', '59th (2nd North Midland) Division']\n",
      "  <page>\n",
      "    <title>Oberbaum Bridge</title>\n",
      "    <ns>0</ns>\n",
      "    <id>2939238</id>\n",
      "    <revision>\n",
      "      <id>736276111</id>\n",
      "      <parentid>735447604</parentid>\n",
      "      <timestamp>2016-08-26T10:52:33Z</timestamp>\n",
      "      <contributor>\n",
      "        <username>Brewer Bob</username>\n",
      "        <id>20461221</id>\n",
      "      </contributor>\n",
      "      <minor />\n",
      "      <model>wikitext</model>\n",
      "      <format>text/x-wiki</format>\n",
      "      <text xml:space=\"preserve\">{{unreferenced|date=April 2016}}\n",
      "[[Image:Oberbaumbrücke mit U-Bahn.jpg|thumb|An [[Berlin U-Bahn|U-Bahn]] train crosses the Oberbaum Bridge]]\n",
      "[[File:Oberbaumbruecke beim Berliner Osthafen cropped.jpg|thumb|Oberbaum Bridge connecting the districts of [[Kreuzberg]] and [[Friedrichshain]], [[Berlin TV Tower]] in the background]]\n",
      "\n",
      "The '''Oberbaum Bridge''' ({{lang-de|Oberbaumbrücke}}) is a double-deck bridge crossing [[Berlin]]'s [[River Spree]], considered one of the city's [[landmark]]s. It links [[Friedrichshain]] and [[Kreuzberg]], former [[Boroughs of Berlin|boroughs]] that were divided by the [[Berlin Wall]], and has become an important symbol of Berlin’s unity.\n",
      "\n",
      "The lower deck of the bridge carries a roadway, which connects [[Oberbaum Straße]] to the south of the river with [[Warschauer Straße]] to the north. The upper deck of the bridge carries [[Berlin U-Bahn|Berlin U-Bahn line]] {{BVG lines|U1}}, between [[Schlesisches Tor (Berlin U-Bahn)|Schlesisches Tor]] and [[Berlin Warschauer Straße station|Warschauer Straße]] stations.\n",
      "\n",
      "The bridge appears prominently in the 1998 film ''[[Run Lola Run]]''.\n",
      "\n",
      "==History==\n",
      "[[Image:Oberbaumbrücke, Berlin 1900.png|thumb|left|The Oberbaum Bridge and former [[Stralauer Tor (Berlin U-Bahn)|U-Bahn railway station Stralauer Tor]], c. 1900]]\n",
      "[[Image:Prenzlau Mitteltor Turm 2006.jpg|thumb|right|The towers were based on the [[Brick Gothic]] ''Mitteltorturm'' in [[Prenzlau]]]]\n",
      "[[File:Oberbaum Bridge - december-31-2014.ogv|thumb|(video) A U-bahn subway train goes across the bridge on a cold day in December, 2014]]\n",
      "The bridge is built on the former boundary of the municipal area with its rural environs, where an [[Berlin Customs Wall|excise wall]] was built in 1732. A wooden drawbridge was built as part of the wall; it served as a gate to the city. The name ''Oberbaumbrücke'' stemmed from the heavy tree trunk, covered in metal spikes, that was used as a boom to block the river at night to prevent smuggling. (''Baum'' means tree or wooden beam in German; thus the name means something like &quot;Upper [Upstream] Tree Bridge&quot;; there was another tree-trunk barrier at the western end of the contemporary city limits, close to today's Unterbaumstraße (lit. in {{lang-en|Lower [Downstream] Tree Street}}.)\n",
      "\n",
      "By 1879 the wooden bridge had been modified greatly. At 154 meters it was Berlin's longest, but was no longer adequate to the amount of traffic crossing it. Plans began to be drawn up for a new stone construction. The [[Siemens &amp; Halske AG|Siemens &amp; Halske]] company, which was planning to build the [[Berlin U-Bahn]] ([[Rapid transit|subway]]), insisted on a combined crossing for road vehicles, pedestrians, and the new rail line.\n",
      "The new bridge opened in 1896 after two years of construction, in time for the [[Gewerbe-Ausstellung (1896)|Berlin Trades Exhibition]]. The architect and government official [[Otto Stahn]] (1859-1930) designed it in North German [[Brick Gothic#19th century Neogothic|Brick Gothic]], in the style of a city gate with many decorative elements, such as pointed arches, cross vaults, and coats of arms. The two towers were inspired by the Middle Gate Tower (''Mitteltorturm'') in the northern [[Brandenburg]] city of [[Prenzlau]]. Although purely cosmetic, they served as a reminder that the site was once Berlin’s river gateway.\n",
      "\n",
      "In 1902 the first segment of the U-Bahn opened. Its inaugural journey, carrying 19 passengers, ran from [[Stralauer Thor]], at the eastern end of the bridge, to Potsdamer Platz. Stralauer Thor was dismantled after being damaged in a 1945 air raid, but its four sandstone-clad support posts can still be seen.\n",
      "\n",
      "After Berlin absorbed several other municipalities in 1920, the Oberbaum Bridge became the crossing between the new boroughs of [[Friedrichshain]] and [[Kreuzberg]]. In April 1945 the [[Wehrmacht]] blew up the middle section of the bridge in an attempt to stop the [[Red Army]] from crossing it. After the war ended, Berlin was divided into four sectors. The Oberbaum Bridge crossed between the American and Soviet sectors. Until the mid-1950s, pedestrians, motor vehicles, and the city [[tram]]way were able to cross the bridge without difficulty.\n",
      "\n",
      "===Border crossing===\n",
      "[[Image:Bundesarchiv Bild 183-85426-0002, Berlin, Mauerbau, Oberbaumbrücke.jpg|thumb|300px|East German checkpoint at the Oberbaum Bridge.]]\n",
      "[[File:Oberbaumbrücke 19891111.jpg|thumb|300px|Crowds at Oberbaumbrücke after the breach of the [[Berlin Wall]] in November 1989.]]\n",
      "\n",
      "When the Berlin Wall was built in 1961 the bridge became part of [[East Berlin]]'s border with [[West Berlin]]; as all the waters of the [[River Spree]] were in Friedrichshain, the [[East Germany|East German]] fortifications extended to the shoreline on the Kreuzberg side. The West [[Berlin U-Bahn]] line was forced to terminate at [[Schlesisches Tor (Berlin U-Bahn)|Schlesisches Tor]]. Beginning on 21 December 1963, the Oberbaum Bridge was used as a pedestrian border crossing for West Berlin residents only.\n",
      "\n",
      "After the removal of the [[Berlin Wall]] in 1989, and [[German reunification]] the following year, the bridge was restored to its former appearance, albeit with a new steel middle section designed by the Spanish architect [[Santiago Calatrava]]. It opened to pedestrians and traffic on 9 November 1994, the fifth anniversary of the opening of the Berlin Wall. The U-Bahn line to [[Berlin Warschauer Straße station|Warschauer Straße station]] was reopened a year later.\n",
      "&lt;!-- Deleted image removed: [[File:Oberbaum bridge.jpg|thumb|right|250px|Middle section redesigned by Calatrava showing the Rock,Paper/Scissors indicators]] --&gt;\n",
      "Since 1997, a [[neon lamp|neon]] [[Installation art|installation]] entitled &quot;Stone - Paper - Scissors&quot; by [[Thorsten Goldberg]] has adorned the bridge. Its two elements are engaged in a constant game of [[rock, paper, scissors]], suggesting the arbitrariness of immigration decisions, both during the [[Cold War]] and for today's [[asylum seekers]] and [[poverty migrants]].\n",
      "\n",
      "Since 1999, the traditional rivalry between the traditionally left-leaning boroughs [[Kreuzberg]] and [[Friedrichshain]] is played out in the annual &quot;water battle&quot;, where residents from both areas, organized in groups with satirical names such as &quot;[[Anarchism|Anarcho]]-[[Cynicism (contemporary)|Cynical]] Offensive Berlin - Friedrichshain Faction&quot; or &quot;Kreuzberg [[Landwehr]]&quot; pelt each other with rotten vegetables, jello, eggs, flour and water and try to symbolically &quot;reconquer&quot; the &quot;renegade&quot; other borough (Friedrichshain being mockingly referred to as &quot;East Kreuzberg&quot; and Kreuzberg as &quot;Lower Friedrichshain&quot;) by driving their participants from the bridge. Due to their higher turnout and the superior &quot;armament&quot; (including home-built [[water cannon]]s), the Friedrichshain detachments have won the water battle on a regular basis.\n",
      "\n",
      "With the creation of the unified [[Friedrichshain-Kreuzberg]] borough in 2001, the Oberbaum Bridge no longer crosses a jurisdictional boundary.\n",
      "\n",
      "== See also ==\n",
      "* [[:Category:Bridges in Berlin|Bridges in Berlin]]\n",
      "* [[List of road-rail bridges]]\n",
      "\n",
      "== References ==\n",
      "{{reflist}}\n",
      "\n",
      "== External links ==\n",
      "{{Commons|Oberbaumbrücke}}\n",
      "* [http://www.stadtentwicklung.berlin.de/bauen/wanderungen/en/s4_oberbaumbruecke.shtml Berlin Senate Department of Urban Development article]\n",
      "* [http://www.stadtentwicklung.berlin.de/bauen/ueberbruecken/en/text_19.shtml More information from above source]\n",
      "\n",
      "{{Berlin Wall}}\n",
      "{{Visitor attractions in Berlin}}\n",
      "{{coord|52|30|07|N|13|26|44|E|region:DE-BE_type:landmark|display=title}}\n",
      "\n",
      "[[Category:History of Berlin]]\n",
      "[[Category:Road-rail bridges]]\n",
      "[[Category:Bridges completed in 1896]]\n",
      "[[Category:Berlin border crossings]]\n",
      "[[Category:Bridges in Berlin]]\n",
      "[[Category:Buildings and structures in Friedrichshain-Kreuzberg]]\n",
      "[[Category:Road bridges in Germany]]\n",
      "[[Category:Railway bridges in Germany]]\n",
      "[[Category:Articles containing video clips]]</text>\n",
      "      <sha1>nwpisvoxppvxysm3jepqz5y9wdfd459</sha1>\n",
      "    </revision>\n",
      "  </page>\n",
      "\n"
     ]
    }
   ],
   "source": [
    "bridge = wkd.get_page(\"Oberbaum Bridge\")\n",
    "print(bridge.reverse_links())\n",
    "print(bridge.raw)"
   ]
  },
  {
   "cell_type": "code",
   "execution_count": null,
   "metadata": {
    "collapsed": true
   },
   "outputs": [],
   "source": [
    " "
   ]
  }
 ],
 "metadata": {
  "kernelspec": {
   "display_name": "Python 3",
   "language": "python",
   "name": "python3"
  },
  "language_info": {
   "codemirror_mode": {
    "name": "ipython",
    "version": 3
   },
   "file_extension": ".py",
   "mimetype": "text/x-python",
   "name": "python",
   "nbconvert_exporter": "python",
   "pygments_lexer": "ipython3",
   "version": "3.6.0"
  }
 },
 "nbformat": 4,
 "nbformat_minor": 2
}
